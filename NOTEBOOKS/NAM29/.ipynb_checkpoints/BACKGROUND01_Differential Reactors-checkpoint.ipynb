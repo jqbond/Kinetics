{
 "cells": [
  {
   "cell_type": "markdown",
   "id": "3c9526f1",
   "metadata": {
    "tags": []
   },
   "source": [
    "# \"Differential Reactors\"\n",
    "\n",
    "This notebook should stem from the idea that some method discussed in Notebook 02 will actually allow you to provide a reasonable estimate of a site time yield by discounting deactivation/induction type dynamics.  The next common thing we see in catalysis research is the idea that every reactor is somehow differential. We can quantify flowrates of products exiting our reactors with good precision. Again, perhaps by virtue of the way we usually teach analysis of flow reactor data, we are probably usually too quick to declare that these production rates are obtained under differential conditions. We are loose with applying that criteria--most of us would accept a declaration of differential operation as long as feed conversion is below 10% - 20%.  In reality, the criteria of \"differential\" reactor operation are much more stringent, and ensuring they are met is nt trivial.\n",
    "\n",
    "We have come to equate differential operation with operation at low conversion, but these are not the same things. One could theoretically satisfy criteria for differential operation at in a nonisothermal reactor operating at relatively high conversion 30, 40, 50, 60% even--a zero order reaction with a zero barrier would do this. On the other hand, one could operate a reactor well-below 1% conversion and still violate the criteria of differential operation. It is important that we decouple \"differential operation\" from \"5% conversion\" and remember the formal definition of a differential reactor:\n",
    "\n",
    "A differential packed bed reactor is simply one that has no spatial gradient in reaction rate between the inlet of the reactor and the exit of the reactor. If this criteria holds, one can make the simplifcations below:\n",
    "\n",
    "The upshot of these simplifications is that the one can directly quantify the reaction rate in a differential reactor based on the difference between inlet and outlet flowrates of reactants and/or products.  \n",
    "\n",
    "In general, as long as the reaction rate does not change more than ~10% between inlet and exit, we can consider it to be differential.\n",
    "\n",
    "Generally, one expects that rate constants are sensitive to reaction temperature. While it isn't strictly required, the fact that rate constants are almost always temperature-responsive means that a differential reactor should almost always be *isothermal*.  It may only take a very minor temperature change to exceed a 10% change in rate, so isothermal would be almost always essential for differential operation.\n",
    "\n",
    "Reaction rates are also, in general, composition-dependent. So differential operation also requires that changes in composition between the inlet of the reactor and the exit of the reactor do not impact the reaction rate appreciably. How large of a change can one tolerate? In general, as long as the reaction rate does not change more than ~10% between inlet and exit, we can consider it to be differential. If one is considering an *irreversible first order reaction*, this would lead to the conclusion that one can tolerate no more than a 10% change in feed concentration, which leads to the conclusion that a differential reactor should not exceed 10% conversion. This is really only valid for an irreversible, first order reaction--it is actually rare that catalytic reactions adhere to irreverisble, first-order kinetics, so it is frustrating that this approximation has become entrenched in the field. Changes in a second order reaction rate will exceed 10% at only 5% feed conversion, whereas an apparent zero order reaction may be composition independent up to very high feed conversion. It is also possible that reaction products impact kinetics as products can frequently accumulate appreciable coverages on catalyst surfaces. Strongly bound products can begin to influence reaction rates at very low conversion, so product orders need to be considered carefully before declaring differential operation. Finally, endothermic or entropically unfavorable reactions can approach equilibrium well below 100% conversion. In these cases, reaction rates can begin to \"feel\" the influence of reaction progress far below 10% conversion.\n",
    "\n",
    "Another problematic issue in catalytic reactions is sequential reactions that consume primary products. If sequential reactions are fast, they impact product formation rates, even at very low conversion. This makes product flowrates actually lower than reaction rates and leads to (1) artifically low reaction rate assignments for a given condition and (2) reaction rates that change with residence time, making it difficult to compare between two systems.\n",
    "\n",
    "One can only make a determination of acceptable conversion in a differential reactor once they have prior knowledge of the relationship between rate and composition and the equilibrium limit on that reaction.\n",
    "\n",
    "Another issue, especially for gas-phase reactions, is that packed beds will often induce a pressure drop. This is especially problematic for small particle sizes, narrow diameter reactors, and large catalyst beds (masses). It is often tempting to discount the impact of a pressure drop--they can be difficult to fully eliminate in experimental packed beds. However, composition influences reaction rates, and partial pressures are proportional to system pressure.  Flow reactors often operate at \"ambient pressure,\" or 1 atm.  A 15 psi pressure drop across the bed might be tempting to disregard as \"minor,\" but this designation requires context.  If the reactor operates at 600 psi, then the 15 psi drop can probably be ignored as insignificant. If, on the other hand, the reactor exit operates at 1 bar (which is very common in kinetic experiments), then a 15 psi pressure drop means that, even in the zero conversion limit, species concentrations change by a factor of two across the catalyst bed.  This can have a significant impact on reaction rates, so it is important to consider and minimize pressure drops in order to claim differential operation.\n",
    "\n",
    "If a reactor is not differential, then applying differential methods of analysis is incorrect.  Differential analysis essentially means equating product formation rates with reaction rates and further assigning that reaction rate as representing the reaction rate at the (T,P, X) conditions in the reactor feed. If the reactor is non-differential (integral operation), then the product formation rate reflects the spatially averaged reaction rate between the inlet of the reactor and the exit of the reactor, and it is incorrect to state that it represents the reaction rate at inlet conditions.  Analysis of this type of reactor is more difficult and it is usually preferable to modify the reactor so that it conforms to differential operation.  In cases where this is not possible, it is mandatory to apply an integral reactor analysis to extract kinetic information.\n",
    "\n",
    "Testing for differential operation\n",
    "\n",
    "1. The only rigorous way that I know to test for differential operation is to test reactor operation at multiple residence times/contact times. Under differential operation, rates will be invariant with residence time.  A good test for this is to plot feed conversion and product yields as a function of residence time/contact time.  \n",
    "2. If these are linear, this is a rigorous demonstration of differential operation, and the slope of the line can be taken as the reaction rate\n",
    "3. If trends are nonlinear, it should be taken as evidence that the reactor is non-differential and that rate is changing across the space of the reactor. Sometimes, it can be possible to isolate linear portions from this profile. Sometimes, in cases of a very unfavorable equilibrium position or strong product inhibition, it can be challenging to actually operate a reactor differentially, and one almost never observes linear conversion/yield vs. space time.\n",
    "\n",
    "Add illustrations; add experimental data from lab.  Two really good examples are:\n",
    "\n",
    "1. Christian's paper on GVL Decarboxylation\n",
    "2. Josh's paper on carboxylic acid HDO, where decarbonylation produces CO and inhibits reaction rates.\n",
    "\n",
    "If these things can be guaranteed, then one can confidently quantify a reaction rate under differential conditions."
   ]
  }
 ],
 "metadata": {
  "kernelspec": {
   "display_name": "Julia 1.11.3",
   "language": "julia",
   "name": "julia-1.11"
  },
  "language_info": {
   "file_extension": ".jl",
   "mimetype": "application/julia",
   "name": "julia",
   "version": "1.11.3"
  }
 },
 "nbformat": 4,
 "nbformat_minor": 5
}
