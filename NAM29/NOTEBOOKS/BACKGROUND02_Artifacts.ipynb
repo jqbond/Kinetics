{
 "cells": [
  {
   "cell_type": "markdown",
   "id": "0da99dba",
   "metadata": {
    "tags": []
   },
   "source": [
    "# Artifacts\n",
    "\n",
    "Heat and Mass Transfer\n",
    "\n",
    "To this point, analysis ensures that we can equate the effluent product flowrate with the \"reaction rate.\" But this reaction rate is probably best described as an extensive reaction rate more than an intensive one (R ~ Fj).  We then have to make a decision about how to normalize that rate in order to assign an approriate intensive reaction rate and to, ideally, assign a turnover frequency that is normalized to a single active site.\n",
    "\n",
    "In doing this, we need to consider that heat and mass transfer effects appear in the extensive reaction rate (as it is a spatially averaged quantity). We should also consider that reactions may be structure sensitive, which further complicates the definition of a turnover frequency.\n",
    "\n",
    "The tests proposed by Koros-Nowak and Madon-Boudart are very useful in resolving these details in order to arrive at a turnover frequency.  The basic idea of these tests is that one examine extensive reaction rates as a function of the active surface area in the reactor. A requirement for this is that we have a good way to quantify active surface area or number of active sites; this is not always trivial, but in cases where there exists a reliable site titration method, this test is useful.  Some examples include ammonia/pyridine/isopropylamine for acid site titration and H2/CO/N2O chemisorption for metal site titration.\n",
    "\n",
    "A common analysis is to plot rates against site counts on log axes. A linear relationship between rate and sites indicates that rate has a power law dependence on active sites.  If the slope of that line is 1, it means that rate scales linearly with the number of active sites.  This is a classic definition of kinetic control -- if the observed rate increases linearly with the quantity of catalyst, then the reaction rate must be kinetically controlled and reflects only the intrinsic rate of reaction on that catalyst.  A slope other than 1 is generally taken as evidence for some convoluting artifacts; commonly, these would be heat transfer effects, mass transfer effects, and/or structure sensitivity.  A nonlinear dependence should not be taken as definitive evidence of any specific confounding artifact, though rules of thumb certainly exist. For example, a slope of 0.X is taken as a sign of diffusion limitations, and a slope of Y is taken as a sign of heat transfer effects. We caution that these interpretations are based on analysis of first order kinetics, which may not always apply. It may, for example, indicate an improper site titration method and that rates do not scale with, e.g., CO uptake, which we often take as a proxy for active surface area. Rather, non-linear behavior should be taken as evidence that we should proceed with caution in assigning a turnover frequency based on the site counts we have considered in the analysis. As an example, one might instead plot rate data against H2 chemisorption uptake. Or isopropylamine instead of ammonia might lead to a linear dependence on Bronsted sites instead of \"acid sites\".  \n",
    "\n",
    "Strictly speaking, this type of analysis should employ catalysts that have identical metal cluster sizes but different metal site densities (per volume or mass of catalyst).  This can be challenging to ensure with things like incipient wetness impregnation, which offer little control over particle size distribution. One approach could be to use a method like SEA, which gives better control over dispersion and can allow one to prepare multiple samples with different metal loadings but uniform particle sizes. Alternatively, one could dilute a single catalyst to varying degrees in an inert binder, pelletize the material to a single size, and test these materials.\n",
    "\n",
    "In addition, one can use emprical methods to rule out heat and mass transfer effects.  For example, Thiele modulii scale inversely with diffusion lengths, so one might measure reaction rates on to catalyst pellets having the same active site density but different particle sizes. If rates are invariant with particle size, it can be taken that data are not diffusion controlled. In contrast, if rates decrease with particle size, it should be taken as evidence for mass diffusion restrictions. Heat transfer effects can be tested by increasing bed dilution."
   ]
  },
  {
   "cell_type": "markdown",
   "id": "e3b268b9-277c-4a45-8ccb-4ee9da283572",
   "metadata": {},
   "source": [
    "## Thiele Modulus and Effectiveness Factor\n",
    "\n",
    "$$\\Phi = \\sqrt{\\frac{k\\bar{v}^2}{D_A}}$$\n",
    "\n",
    "$$\\eta = \\frac{\\tanh{(\\Phi)}}{\\Phi}$$\n",
    "\n",
    "$$D_A\\frac{d^2C_A}{dz^2} - kC_A = 0$$"
   ]
  },
  {
   "cell_type": "markdown",
   "id": "561a58ef-187e-429c-bb6a-9391ad0c2121",
   "metadata": {},
   "source": [
    "## Non-First Order Kinetics\n",
    "\n",
    "$$\\Phi = \\sqrt{\\frac{n+1}{2} \\frac{kc_{A_s}^{n-1}\\bar{v}^2}{D_A}}$$\n",
    "\n",
    "$$\\eta = \\frac{R_{A_p}}{R_{A_s}}$$\n",
    "\n",
    "$$\\eta = \\frac{1}{(q+1)^q}\\int_0^{\\bar{r} = q+1}\\bar{c}^n\\bar{r}^q d\\bar{r}$$\n",
    "\n",
    "$$\\eta = \\frac{n+1}{2}\\frac{1}{\\Phi^2}\\frac{d\\bar{c}}{d\\bar{r}}\\bigg\\vert_{\\bar{r}=q+1}$$"
   ]
  }
 ],
 "metadata": {
  "kernelspec": {
   "display_name": "Julia 1.11.5",
   "language": "julia",
   "name": "julia-1.11"
  },
  "language_info": {
   "file_extension": ".jl",
   "mimetype": "application/julia",
   "name": "julia",
   "version": "1.11.5"
  }
 },
 "nbformat": 4,
 "nbformat_minor": 5
}
